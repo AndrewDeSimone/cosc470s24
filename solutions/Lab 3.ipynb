{
 "cells": [
  {
   "cell_type": "code",
   "execution_count": 123,
   "metadata": {},
   "outputs": [],
   "source": [
    "from keras.datasets import mnist\n",
    "import keras\n",
    "import tensorflow as tf\n",
    "import numpy as np\n",
    "import seaborn as sns\n",
    "(train_X, train_y), (test_X, test_y) = mnist.load_data()\n",
    "train_X = train_X/255.0\n",
    "test_X = test_X/255.0"
   ]
  },
  {
   "cell_type": "markdown",
   "metadata": {},
   "source": [
    "PART 1"
   ]
  },
  {
   "cell_type": "code",
   "execution_count": 124,
   "metadata": {},
   "outputs": [
    {
     "name": "stdout",
     "output_type": "stream",
     "text": [
      "1875/1875 [==============================] - 10s 5ms/step - loss: 0.4008\n",
      "1875/1875 [==============================] - 9s 5ms/step - loss: 0.1941\n",
      "1875/1875 [==============================] - 6s 3ms/step - loss: 0.1401\n",
      "1875/1875 [==============================] - 7s 4ms/step - loss: 0.1077\n",
      "1875/1875 [==============================] - 7s 4ms/step - loss: 0.0860\n",
      "1875/1875 [==============================] - 7s 4ms/step - loss: 0.0706\n",
      "1875/1875 [==============================] - 8s 4ms/step - loss: 0.0583\n",
      "1875/1875 [==============================] - 6s 3ms/step - loss: 0.0488\n",
      "1875/1875 [==============================] - 7s 4ms/step - loss: 0.0412\n",
      "1875/1875 [==============================] - 9s 5ms/step - loss: 0.0344\n"
     ]
    }
   ],
   "source": [
    "#without regularization\n",
    "model = tf.keras.Sequential([\n",
    "    tf.keras.layers.Flatten(input_shape=(28,28)),\n",
    "    tf.keras.layers.Dense(units=128, activation='sigmoid'),\n",
    "    tf.keras.layers.Dense(units=10)\n",
    "])\n",
    "\n",
    "model.compile(optimizer='adam', loss=tf.keras.losses.SparseCategoricalCrossentropy(from_logits=True))\n",
    "\n",
    "weights_noReg = []\n",
    "\n",
    "for i in range(10):\n",
    "    losses = model.fit(train_X, train_y, epochs=1)\n",
    "    currentWeights = 0\n",
    "    for j in model.layers[1].get_weights()[0]:\n",
    "        for k in j:\n",
    "            currentWeights += abs(k)\n",
    "    for j in model.layers[2].get_weights()[0]:\n",
    "        for k in j:\n",
    "            currentWeights += abs(k)\n",
    "    weights_noReg.append(currentWeights)\n"
   ]
  },
  {
   "cell_type": "code",
   "execution_count": 125,
   "metadata": {},
   "outputs": [
    {
     "name": "stdout",
     "output_type": "stream",
     "text": [
      "1875/1875 [==============================] - 10s 5ms/step - loss: 1.4905\n",
      "1875/1875 [==============================] - 10s 5ms/step - loss: 1.3814\n",
      "1875/1875 [==============================] - 10s 6ms/step - loss: 1.3759\n",
      "1875/1875 [==============================] - 11s 6ms/step - loss: 1.3740\n",
      "1875/1875 [==============================] - 9s 5ms/step - loss: 1.3723\n",
      "1875/1875 [==============================] - 8s 4ms/step - loss: 1.3718\n",
      "1875/1875 [==============================] - 9s 5ms/step - loss: 1.3699\n",
      "1875/1875 [==============================] - 10s 6ms/step - loss: 1.3705\n",
      "1875/1875 [==============================] - 10s 6ms/step - loss: 1.3709\n",
      "1875/1875 [==============================] - 12s 6ms/step - loss: 1.3716\n"
     ]
    }
   ],
   "source": [
    "#with regularization\n",
    "model = tf.keras.Sequential([\n",
    "    tf.keras.layers.Flatten(input_shape=(28,28)),\n",
    "    tf.keras.layers.Dense(units=128, activation='sigmoid', kernel_regularizer='l2'),\n",
    "    tf.keras.layers.Dense(units=10, kernel_regularizer='l2')\n",
    "])\n",
    "\n",
    "model.compile(optimizer='adam', loss=tf.keras.losses.SparseCategoricalCrossentropy(from_logits=True))\n",
    "\n",
    "weights_Reg = []\n",
    "\n",
    "for i in range(10):\n",
    "    losses = model.fit(train_X, train_y, epochs=1)\n",
    "    currentWeights = 0\n",
    "    for j in model.layers[1].get_weights()[0]:\n",
    "        for k in j:\n",
    "            currentWeights += abs(k)\n",
    "    for j in model.layers[2].get_weights()[0]:\n",
    "        for k in j:\n",
    "            currentWeights += abs(k)\n",
    "    weights_Reg.append(currentWeights)"
   ]
  },
  {
   "cell_type": "code",
   "execution_count": 126,
   "metadata": {},
   "outputs": [],
   "source": [
    "import plotly.graph_objects as go"
   ]
  },
  {
   "cell_type": "code",
   "execution_count": 127,
   "metadata": {},
   "outputs": [
    {
     "data": {
      "application/vnd.plotly.v1+json": {
       "config": {
        "plotlyServerURL": "https://plot.ly"
       },
       "data": [
        {
         "name": "Without Regularization",
         "type": "bar",
         "x": [
          1,
          2,
          3,
          4,
          5,
          6,
          7,
          8,
          9,
          10
         ],
         "y": [
          8139.9536165257205,
          10108.412103516916,
          11668.027327576789,
          13065.651256181325,
          14291.251797152743,
          15459.048127302118,
          16539.40985675944,
          17582.693274287933,
          18583.707611754297,
          19546.835252415833
         ]
        },
        {
         "name": "With Regularization",
         "type": "bar",
         "x": [
          1,
          2,
          3,
          4,
          5,
          6,
          7,
          8,
          9,
          10
         ],
         "y": [
          1180.1938990678789,
          1172.2445158492983,
          1170.2513120537437,
          1183.563672229864,
          1181.2609430369682,
          1179.9189215623996,
          1178.5826824197882,
          1177.547965425365,
          1198.983598477137,
          1181.114303567576
         ]
        }
       ],
       "layout": {
        "template": {
         "data": {
          "bar": [
           {
            "error_x": {
             "color": "#2a3f5f"
            },
            "error_y": {
             "color": "#2a3f5f"
            },
            "marker": {
             "line": {
              "color": "#E5ECF6",
              "width": 0.5
             },
             "pattern": {
              "fillmode": "overlay",
              "size": 10,
              "solidity": 0.2
             }
            },
            "type": "bar"
           }
          ],
          "barpolar": [
           {
            "marker": {
             "line": {
              "color": "#E5ECF6",
              "width": 0.5
             },
             "pattern": {
              "fillmode": "overlay",
              "size": 10,
              "solidity": 0.2
             }
            },
            "type": "barpolar"
           }
          ],
          "carpet": [
           {
            "aaxis": {
             "endlinecolor": "#2a3f5f",
             "gridcolor": "white",
             "linecolor": "white",
             "minorgridcolor": "white",
             "startlinecolor": "#2a3f5f"
            },
            "baxis": {
             "endlinecolor": "#2a3f5f",
             "gridcolor": "white",
             "linecolor": "white",
             "minorgridcolor": "white",
             "startlinecolor": "#2a3f5f"
            },
            "type": "carpet"
           }
          ],
          "choropleth": [
           {
            "colorbar": {
             "outlinewidth": 0,
             "ticks": ""
            },
            "type": "choropleth"
           }
          ],
          "contour": [
           {
            "colorbar": {
             "outlinewidth": 0,
             "ticks": ""
            },
            "colorscale": [
             [
              0,
              "#0d0887"
             ],
             [
              0.1111111111111111,
              "#46039f"
             ],
             [
              0.2222222222222222,
              "#7201a8"
             ],
             [
              0.3333333333333333,
              "#9c179e"
             ],
             [
              0.4444444444444444,
              "#bd3786"
             ],
             [
              0.5555555555555556,
              "#d8576b"
             ],
             [
              0.6666666666666666,
              "#ed7953"
             ],
             [
              0.7777777777777778,
              "#fb9f3a"
             ],
             [
              0.8888888888888888,
              "#fdca26"
             ],
             [
              1,
              "#f0f921"
             ]
            ],
            "type": "contour"
           }
          ],
          "contourcarpet": [
           {
            "colorbar": {
             "outlinewidth": 0,
             "ticks": ""
            },
            "type": "contourcarpet"
           }
          ],
          "heatmap": [
           {
            "colorbar": {
             "outlinewidth": 0,
             "ticks": ""
            },
            "colorscale": [
             [
              0,
              "#0d0887"
             ],
             [
              0.1111111111111111,
              "#46039f"
             ],
             [
              0.2222222222222222,
              "#7201a8"
             ],
             [
              0.3333333333333333,
              "#9c179e"
             ],
             [
              0.4444444444444444,
              "#bd3786"
             ],
             [
              0.5555555555555556,
              "#d8576b"
             ],
             [
              0.6666666666666666,
              "#ed7953"
             ],
             [
              0.7777777777777778,
              "#fb9f3a"
             ],
             [
              0.8888888888888888,
              "#fdca26"
             ],
             [
              1,
              "#f0f921"
             ]
            ],
            "type": "heatmap"
           }
          ],
          "heatmapgl": [
           {
            "colorbar": {
             "outlinewidth": 0,
             "ticks": ""
            },
            "colorscale": [
             [
              0,
              "#0d0887"
             ],
             [
              0.1111111111111111,
              "#46039f"
             ],
             [
              0.2222222222222222,
              "#7201a8"
             ],
             [
              0.3333333333333333,
              "#9c179e"
             ],
             [
              0.4444444444444444,
              "#bd3786"
             ],
             [
              0.5555555555555556,
              "#d8576b"
             ],
             [
              0.6666666666666666,
              "#ed7953"
             ],
             [
              0.7777777777777778,
              "#fb9f3a"
             ],
             [
              0.8888888888888888,
              "#fdca26"
             ],
             [
              1,
              "#f0f921"
             ]
            ],
            "type": "heatmapgl"
           }
          ],
          "histogram": [
           {
            "marker": {
             "pattern": {
              "fillmode": "overlay",
              "size": 10,
              "solidity": 0.2
             }
            },
            "type": "histogram"
           }
          ],
          "histogram2d": [
           {
            "colorbar": {
             "outlinewidth": 0,
             "ticks": ""
            },
            "colorscale": [
             [
              0,
              "#0d0887"
             ],
             [
              0.1111111111111111,
              "#46039f"
             ],
             [
              0.2222222222222222,
              "#7201a8"
             ],
             [
              0.3333333333333333,
              "#9c179e"
             ],
             [
              0.4444444444444444,
              "#bd3786"
             ],
             [
              0.5555555555555556,
              "#d8576b"
             ],
             [
              0.6666666666666666,
              "#ed7953"
             ],
             [
              0.7777777777777778,
              "#fb9f3a"
             ],
             [
              0.8888888888888888,
              "#fdca26"
             ],
             [
              1,
              "#f0f921"
             ]
            ],
            "type": "histogram2d"
           }
          ],
          "histogram2dcontour": [
           {
            "colorbar": {
             "outlinewidth": 0,
             "ticks": ""
            },
            "colorscale": [
             [
              0,
              "#0d0887"
             ],
             [
              0.1111111111111111,
              "#46039f"
             ],
             [
              0.2222222222222222,
              "#7201a8"
             ],
             [
              0.3333333333333333,
              "#9c179e"
             ],
             [
              0.4444444444444444,
              "#bd3786"
             ],
             [
              0.5555555555555556,
              "#d8576b"
             ],
             [
              0.6666666666666666,
              "#ed7953"
             ],
             [
              0.7777777777777778,
              "#fb9f3a"
             ],
             [
              0.8888888888888888,
              "#fdca26"
             ],
             [
              1,
              "#f0f921"
             ]
            ],
            "type": "histogram2dcontour"
           }
          ],
          "mesh3d": [
           {
            "colorbar": {
             "outlinewidth": 0,
             "ticks": ""
            },
            "type": "mesh3d"
           }
          ],
          "parcoords": [
           {
            "line": {
             "colorbar": {
              "outlinewidth": 0,
              "ticks": ""
             }
            },
            "type": "parcoords"
           }
          ],
          "pie": [
           {
            "automargin": true,
            "type": "pie"
           }
          ],
          "scatter": [
           {
            "fillpattern": {
             "fillmode": "overlay",
             "size": 10,
             "solidity": 0.2
            },
            "type": "scatter"
           }
          ],
          "scatter3d": [
           {
            "line": {
             "colorbar": {
              "outlinewidth": 0,
              "ticks": ""
             }
            },
            "marker": {
             "colorbar": {
              "outlinewidth": 0,
              "ticks": ""
             }
            },
            "type": "scatter3d"
           }
          ],
          "scattercarpet": [
           {
            "marker": {
             "colorbar": {
              "outlinewidth": 0,
              "ticks": ""
             }
            },
            "type": "scattercarpet"
           }
          ],
          "scattergeo": [
           {
            "marker": {
             "colorbar": {
              "outlinewidth": 0,
              "ticks": ""
             }
            },
            "type": "scattergeo"
           }
          ],
          "scattergl": [
           {
            "marker": {
             "colorbar": {
              "outlinewidth": 0,
              "ticks": ""
             }
            },
            "type": "scattergl"
           }
          ],
          "scattermapbox": [
           {
            "marker": {
             "colorbar": {
              "outlinewidth": 0,
              "ticks": ""
             }
            },
            "type": "scattermapbox"
           }
          ],
          "scatterpolar": [
           {
            "marker": {
             "colorbar": {
              "outlinewidth": 0,
              "ticks": ""
             }
            },
            "type": "scatterpolar"
           }
          ],
          "scatterpolargl": [
           {
            "marker": {
             "colorbar": {
              "outlinewidth": 0,
              "ticks": ""
             }
            },
            "type": "scatterpolargl"
           }
          ],
          "scatterternary": [
           {
            "marker": {
             "colorbar": {
              "outlinewidth": 0,
              "ticks": ""
             }
            },
            "type": "scatterternary"
           }
          ],
          "surface": [
           {
            "colorbar": {
             "outlinewidth": 0,
             "ticks": ""
            },
            "colorscale": [
             [
              0,
              "#0d0887"
             ],
             [
              0.1111111111111111,
              "#46039f"
             ],
             [
              0.2222222222222222,
              "#7201a8"
             ],
             [
              0.3333333333333333,
              "#9c179e"
             ],
             [
              0.4444444444444444,
              "#bd3786"
             ],
             [
              0.5555555555555556,
              "#d8576b"
             ],
             [
              0.6666666666666666,
              "#ed7953"
             ],
             [
              0.7777777777777778,
              "#fb9f3a"
             ],
             [
              0.8888888888888888,
              "#fdca26"
             ],
             [
              1,
              "#f0f921"
             ]
            ],
            "type": "surface"
           }
          ],
          "table": [
           {
            "cells": {
             "fill": {
              "color": "#EBF0F8"
             },
             "line": {
              "color": "white"
             }
            },
            "header": {
             "fill": {
              "color": "#C8D4E3"
             },
             "line": {
              "color": "white"
             }
            },
            "type": "table"
           }
          ]
         },
         "layout": {
          "annotationdefaults": {
           "arrowcolor": "#2a3f5f",
           "arrowhead": 0,
           "arrowwidth": 1
          },
          "autotypenumbers": "strict",
          "coloraxis": {
           "colorbar": {
            "outlinewidth": 0,
            "ticks": ""
           }
          },
          "colorscale": {
           "diverging": [
            [
             0,
             "#8e0152"
            ],
            [
             0.1,
             "#c51b7d"
            ],
            [
             0.2,
             "#de77ae"
            ],
            [
             0.3,
             "#f1b6da"
            ],
            [
             0.4,
             "#fde0ef"
            ],
            [
             0.5,
             "#f7f7f7"
            ],
            [
             0.6,
             "#e6f5d0"
            ],
            [
             0.7,
             "#b8e186"
            ],
            [
             0.8,
             "#7fbc41"
            ],
            [
             0.9,
             "#4d9221"
            ],
            [
             1,
             "#276419"
            ]
           ],
           "sequential": [
            [
             0,
             "#0d0887"
            ],
            [
             0.1111111111111111,
             "#46039f"
            ],
            [
             0.2222222222222222,
             "#7201a8"
            ],
            [
             0.3333333333333333,
             "#9c179e"
            ],
            [
             0.4444444444444444,
             "#bd3786"
            ],
            [
             0.5555555555555556,
             "#d8576b"
            ],
            [
             0.6666666666666666,
             "#ed7953"
            ],
            [
             0.7777777777777778,
             "#fb9f3a"
            ],
            [
             0.8888888888888888,
             "#fdca26"
            ],
            [
             1,
             "#f0f921"
            ]
           ],
           "sequentialminus": [
            [
             0,
             "#0d0887"
            ],
            [
             0.1111111111111111,
             "#46039f"
            ],
            [
             0.2222222222222222,
             "#7201a8"
            ],
            [
             0.3333333333333333,
             "#9c179e"
            ],
            [
             0.4444444444444444,
             "#bd3786"
            ],
            [
             0.5555555555555556,
             "#d8576b"
            ],
            [
             0.6666666666666666,
             "#ed7953"
            ],
            [
             0.7777777777777778,
             "#fb9f3a"
            ],
            [
             0.8888888888888888,
             "#fdca26"
            ],
            [
             1,
             "#f0f921"
            ]
           ]
          },
          "colorway": [
           "#636efa",
           "#EF553B",
           "#00cc96",
           "#ab63fa",
           "#FFA15A",
           "#19d3f3",
           "#FF6692",
           "#B6E880",
           "#FF97FF",
           "#FECB52"
          ],
          "font": {
           "color": "#2a3f5f"
          },
          "geo": {
           "bgcolor": "white",
           "lakecolor": "white",
           "landcolor": "#E5ECF6",
           "showlakes": true,
           "showland": true,
           "subunitcolor": "white"
          },
          "hoverlabel": {
           "align": "left"
          },
          "hovermode": "closest",
          "mapbox": {
           "style": "light"
          },
          "paper_bgcolor": "white",
          "plot_bgcolor": "#E5ECF6",
          "polar": {
           "angularaxis": {
            "gridcolor": "white",
            "linecolor": "white",
            "ticks": ""
           },
           "bgcolor": "#E5ECF6",
           "radialaxis": {
            "gridcolor": "white",
            "linecolor": "white",
            "ticks": ""
           }
          },
          "scene": {
           "xaxis": {
            "backgroundcolor": "#E5ECF6",
            "gridcolor": "white",
            "gridwidth": 2,
            "linecolor": "white",
            "showbackground": true,
            "ticks": "",
            "zerolinecolor": "white"
           },
           "yaxis": {
            "backgroundcolor": "#E5ECF6",
            "gridcolor": "white",
            "gridwidth": 2,
            "linecolor": "white",
            "showbackground": true,
            "ticks": "",
            "zerolinecolor": "white"
           },
           "zaxis": {
            "backgroundcolor": "#E5ECF6",
            "gridcolor": "white",
            "gridwidth": 2,
            "linecolor": "white",
            "showbackground": true,
            "ticks": "",
            "zerolinecolor": "white"
           }
          },
          "shapedefaults": {
           "line": {
            "color": "#2a3f5f"
           }
          },
          "ternary": {
           "aaxis": {
            "gridcolor": "white",
            "linecolor": "white",
            "ticks": ""
           },
           "baxis": {
            "gridcolor": "white",
            "linecolor": "white",
            "ticks": ""
           },
           "bgcolor": "#E5ECF6",
           "caxis": {
            "gridcolor": "white",
            "linecolor": "white",
            "ticks": ""
           }
          },
          "title": {
           "x": 0.05
          },
          "xaxis": {
           "automargin": true,
           "gridcolor": "white",
           "linecolor": "white",
           "ticks": "",
           "title": {
            "standoff": 15
           },
           "zerolinecolor": "white",
           "zerolinewidth": 2
          },
          "yaxis": {
           "automargin": true,
           "gridcolor": "white",
           "linecolor": "white",
           "ticks": "",
           "title": {
            "standoff": 15
           },
           "zerolinecolor": "white",
           "zerolinewidth": 2
          }
         }
        },
        "title": {
         "text": "Verified Regularization"
        },
        "xaxis": {
         "title": {
          "text": "Epoch"
         }
        },
        "yaxis": {
         "title": {
          "text": "Magnitude of Weights"
         }
        }
       }
      }
     },
     "metadata": {},
     "output_type": "display_data"
    }
   ],
   "source": [
    "fig = go.Figure()\n",
    "fig.add_trace(go.Bar(x=[i for i in range(1,11)], y=weights_noReg, name='Without Regularization'))\n",
    "fig.add_trace(go.Bar(x=[i for i in range(1,11)], y=weights_Reg, name='With Regularization'))\n",
    "fig.update_layout(xaxis_title='Epoch', yaxis_title='Magnitude of Weights', title='Verified Regularization')"
   ]
  },
  {
   "cell_type": "markdown",
   "metadata": {},
   "source": [
    "The overall magnitude of the weights of the regularized model should be lower. This is because the cost function is updated to penalize larger weights."
   ]
  },
  {
   "cell_type": "markdown",
   "metadata": {},
   "source": [
    "PART 2"
   ]
  },
  {
   "cell_type": "code",
   "execution_count": 128,
   "metadata": {},
   "outputs": [],
   "source": [
    "from tensorflow.keras.preprocessing.image import load_img, img_to_array\n",
    "import matplotlib.pyplot as plt"
   ]
  },
  {
   "cell_type": "code",
   "execution_count": 129,
   "metadata": {},
   "outputs": [],
   "source": [
    "#put images in an array\n",
    "images = {'Good':[],\n",
    "          'Small':[],\n",
    "          'Large':[]}\n",
    "for i in range(3):\n",
    "    for j in range(10):\n",
    "        img = load_img(rf'C:\\Users\\andre\\Documents\\GitHub\\AIRepository\\solutions\\Lab3Data\\{[\"Good\", \"Small\", \"Large\"][i]}{j}.png')\n",
    "        img = img_to_array(img)\n",
    "        img=img/255.0\n",
    "        img = np.dot(img[...,:3], [0.2989, 0.5870, 0.1140])\n",
    "        img = 1-img\n",
    "        images[['Good', 'Small', 'Large'][i]].append(img)"
   ]
  },
  {
   "cell_type": "code",
   "execution_count": 130,
   "metadata": {},
   "outputs": [
    {
     "name": "stdout",
     "output_type": "stream",
     "text": [
      "1/1 [==============================] - 0s 202ms/step\n",
      "Correctly Predicted 3 good images\n"
     ]
    }
   ],
   "source": [
    "goodPredictions = model.predict(np.array(images['Good']))\n",
    "goodPredictions = [list(i).index(max(i)) for i in goodPredictions]\n",
    "\n",
    "total = 0\n",
    "for i in range(10):\n",
    "    if goodPredictions[i] == i:\n",
    "        total += 1\n",
    "\n",
    "print(f'Correctly Predicted {total} good images')"
   ]
  },
  {
   "cell_type": "code",
   "execution_count": 131,
   "metadata": {},
   "outputs": [
    {
     "name": "stdout",
     "output_type": "stream",
     "text": [
      "1/1 [==============================] - 0s 45ms/step\n",
      "Correctly Predicted 3 small images\n"
     ]
    }
   ],
   "source": [
    "smallPredictions = model.predict(np.array(images['Small']))\n",
    "smallPredictions = [list(i).index(max(i)) for i in smallPredictions]\n",
    "\n",
    "total = 0\n",
    "for i in range(10):\n",
    "    if smallPredictions[i] == i:\n",
    "        total += 1\n",
    "\n",
    "print(f'Correctly Predicted {total} small images')"
   ]
  },
  {
   "cell_type": "code",
   "execution_count": 132,
   "metadata": {},
   "outputs": [
    {
     "name": "stdout",
     "output_type": "stream",
     "text": [
      "1/1 [==============================] - 0s 60ms/step\n",
      "Correctly Predicted 1 large images\n"
     ]
    }
   ],
   "source": [
    "largePredictions = model.predict(np.array(images['Large']))\n",
    "largePredictions = [list(i).index(max(i)) for i in largePredictions]\n",
    "\n",
    "total = 0\n",
    "for i in range(10):\n",
    "    if largePredictions[i] == i:\n",
    "        total += 1\n",
    "\n",
    "print(f'Correctly Predicted {total} large images')"
   ]
  },
  {
   "cell_type": "code",
   "execution_count": 133,
   "metadata": {},
   "outputs": [
    {
     "name": "stdout",
     "output_type": "stream",
     "text": [
      "Good Results: [0, 0, 6, 3, 4, 8, 4, 1, 3, 6]\n",
      "Small Results: [5, 1, 9, 6, 7, 5, 5, 7, 9, 5]\n",
      "Large Results: [7, 2, 7, 2, 7, 7, 2, 7, 5, 4]\n"
     ]
    }
   ],
   "source": [
    "print(f'Good Results: {goodPredictions}')\n",
    "print(f'Small Results: {smallPredictions}')\n",
    "print(f'Large Results: {largePredictions}')"
   ]
  },
  {
   "cell_type": "markdown",
   "metadata": {},
   "source": [
    "PART 3"
   ]
  },
  {
   "cell_type": "code",
   "execution_count": 134,
   "metadata": {},
   "outputs": [
    {
     "name": "stdout",
     "output_type": "stream",
     "text": [
      "Epoch 1/10\n",
      "1875/1875 [==============================] - 9s 5ms/step - loss: 0.3988\n",
      "Epoch 2/10\n",
      "1875/1875 [==============================] - 8s 4ms/step - loss: 0.1929\n",
      "Epoch 3/10\n",
      "1875/1875 [==============================] - 10s 5ms/step - loss: 0.1406\n",
      "Epoch 4/10\n",
      "1875/1875 [==============================] - 10s 6ms/step - loss: 0.1085\n",
      "Epoch 5/10\n",
      "1875/1875 [==============================] - 9s 5ms/step - loss: 0.0866\n",
      "Epoch 6/10\n",
      "1875/1875 [==============================] - 10s 5ms/step - loss: 0.0711\n",
      "Epoch 7/10\n",
      "1875/1875 [==============================] - 9s 5ms/step - loss: 0.0584\n",
      "Epoch 8/10\n",
      "1875/1875 [==============================] - 8s 4ms/step - loss: 0.0495\n",
      "Epoch 9/10\n",
      "1875/1875 [==============================] - 10s 5ms/step - loss: 0.0414\n",
      "Epoch 10/10\n",
      "1875/1875 [==============================] - 11s 6ms/step - loss: 0.0346\n"
     ]
    }
   ],
   "source": [
    "#without extra data\n",
    "smallmodel = tf.keras.Sequential([\n",
    "    tf.keras.layers.Flatten(input_shape=(28,28)),\n",
    "    tf.keras.layers.Dense(units=128, activation='sigmoid'),\n",
    "    tf.keras.layers.Dense(units=10)\n",
    "])\n",
    "\n",
    "smallmodel.compile(optimizer='adam', loss=tf.keras.losses.SparseCategoricalCrossentropy(from_logits=True))\n",
    "\n",
    "losses = smallmodel.fit(train_X, train_y, epochs=10)\n"
   ]
  },
  {
   "cell_type": "code",
   "execution_count": 135,
   "metadata": {},
   "outputs": [],
   "source": [
    "train_X_Left = []\n",
    "for i in train_X:\n",
    "    train_X_Left.append(np.roll(i, 1, 0))\n",
    "\n",
    "train_X_Right = []\n",
    "for i in train_X:\n",
    "    train_X_Right.append(np.roll(i, -1, 0))\n",
    "\n",
    "train_X_Up = []\n",
    "for i in train_X:\n",
    "    train_X_Up.append(np.roll(i, 1, 1))\n",
    "\n",
    "train_X_Down = []\n",
    "for i in train_X:\n",
    "    train_X_Down.append(np.roll(i, -1, 1))\n",
    "\n",
    "train_X_Left = np.array(train_X_Left)\n",
    "train_X_Right = np.array(train_X_Right)\n",
    "train_X_Up = np.array(train_X_Up)\n",
    "train_X_Down = np.array(train_X_Down)\n",
    "\n",
    "train_X = np.concatenate((train_X, train_X_Left, train_X_Right, train_X_Up, train_X_Down))\n",
    "train_y = np.array(list(train_y) * 5)"
   ]
  },
  {
   "cell_type": "code",
   "execution_count": 136,
   "metadata": {},
   "outputs": [
    {
     "name": "stdout",
     "output_type": "stream",
     "text": [
      "Epoch 1/10\n",
      "9375/9375 [==============================] - 52s 5ms/step - loss: 0.2470\n",
      "Epoch 2/10\n",
      "9375/9375 [==============================] - 50s 5ms/step - loss: 0.0885\n",
      "Epoch 3/10\n",
      "9375/9375 [==============================] - 47s 5ms/step - loss: 0.0597\n",
      "Epoch 4/10\n",
      "9375/9375 [==============================] - 43s 5ms/step - loss: 0.0459\n",
      "Epoch 5/10\n",
      "9375/9375 [==============================] - 50s 5ms/step - loss: 0.0373\n",
      "Epoch 6/10\n",
      "9375/9375 [==============================] - 50s 5ms/step - loss: 0.0311\n",
      "Epoch 7/10\n",
      "9375/9375 [==============================] - 52s 6ms/step - loss: 0.0268\n",
      "Epoch 8/10\n",
      "9375/9375 [==============================] - 45s 5ms/step - loss: 0.0233\n",
      "Epoch 9/10\n",
      "9375/9375 [==============================] - 45s 5ms/step - loss: 0.0203\n",
      "Epoch 10/10\n",
      "9375/9375 [==============================] - 49s 5ms/step - loss: 0.0179\n"
     ]
    }
   ],
   "source": [
    "#with extra data\n",
    "largemodel = tf.keras.Sequential([\n",
    "    tf.keras.layers.Flatten(input_shape=(28,28)),\n",
    "    tf.keras.layers.Dense(units=128, activation='sigmoid'),\n",
    "    tf.keras.layers.Dense(units=10)\n",
    "])\n",
    "\n",
    "largemodel.compile(optimizer='adam', loss=tf.keras.losses.SparseCategoricalCrossentropy(from_logits=True))\n",
    "\n",
    "losses = largemodel.fit(train_X, train_y, epochs=10)\n"
   ]
  },
  {
   "cell_type": "code",
   "execution_count": 137,
   "metadata": {},
   "outputs": [
    {
     "name": "stdout",
     "output_type": "stream",
     "text": [
      "1/1 [==============================] - 0s 270ms/step\n",
      "Correctly Predicted 8 good images\n"
     ]
    }
   ],
   "source": [
    "goodPredictions = largemodel.predict(np.array(images['Good']))\n",
    "goodPredictions = [list(i).index(max(i)) for i in goodPredictions]\n",
    "\n",
    "total = 0\n",
    "for i in range(10):\n",
    "    if goodPredictions[i] == i:\n",
    "        total += 1\n",
    "\n",
    "print(f'Correctly Predicted {total} good images')"
   ]
  },
  {
   "cell_type": "code",
   "execution_count": 138,
   "metadata": {},
   "outputs": [
    {
     "name": "stdout",
     "output_type": "stream",
     "text": [
      "1/1 [==============================] - 0s 90ms/step\n",
      "Correctly Predicted 3 small images\n"
     ]
    }
   ],
   "source": [
    "smallPredictions = largemodel.predict(np.array(images['Small']))\n",
    "smallPredictions = [list(i).index(max(i)) for i in smallPredictions]\n",
    "\n",
    "total = 0\n",
    "for i in range(10):\n",
    "    if smallPredictions[i] == i:\n",
    "        total += 1\n",
    "\n",
    "print(f'Correctly Predicted {total} small images')"
   ]
  },
  {
   "cell_type": "code",
   "execution_count": 139,
   "metadata": {},
   "outputs": [
    {
     "name": "stdout",
     "output_type": "stream",
     "text": [
      "1/1 [==============================] - 0s 60ms/step\n",
      "Correctly Predicted 0 large images\n"
     ]
    }
   ],
   "source": [
    "largePredictions = largemodel.predict(np.array(images['Large']))\n",
    "largePredictions = [list(i).index(max(i)) for i in largePredictions]\n",
    "\n",
    "total = 0\n",
    "for i in range(10):\n",
    "    if largePredictions[i] == i:\n",
    "        total += 1\n",
    "\n",
    "print(f'Correctly Predicted {total} large images')"
   ]
  },
  {
   "cell_type": "code",
   "execution_count": 140,
   "metadata": {},
   "outputs": [
    {
     "name": "stdout",
     "output_type": "stream",
     "text": [
      "Good Results: [0, 5, 2, 3, 4, 5, 6, 7, 8, 7]\n",
      "Small Results: [7, 4, 2, 6, 9, 9, 4, 7, 9, 9]\n",
      "Large Results: [2, 7, 3, 2, 7, 6, 2, 6, 5, 6]\n"
     ]
    }
   ],
   "source": [
    "print(f'Good Results: {goodPredictions}')\n",
    "print(f'Small Results: {smallPredictions}')\n",
    "print(f'Large Results: {largePredictions}')"
   ]
  },
  {
   "cell_type": "markdown",
   "metadata": {},
   "source": [
    "Below will be metrics comparing the small and large data models"
   ]
  },
  {
   "cell_type": "code",
   "execution_count": 146,
   "metadata": {},
   "outputs": [
    {
     "name": "stdout",
     "output_type": "stream",
     "text": [
      "313/313 [==============================] - 1s 4ms/step\n",
      "313/313 [==============================] - 1s 4ms/step\n"
     ]
    }
   ],
   "source": [
    "smallPredictions = smallmodel.predict(test_X)\n",
    "smallPredictions = [list(i).index(max(i)) for i in smallPredictions]\n",
    "largePredictions = largemodel.predict(test_X)\n",
    "largePredictions = [list(i).index(max(i)) for i in largePredictions]\n"
   ]
  },
  {
   "cell_type": "code",
   "execution_count": 148,
   "metadata": {},
   "outputs": [],
   "source": [
    "def accuracy(predicted, true):\n",
    "    correctPredictions = 0\n",
    "    for i in range(len(predicted)):\n",
    "        if predicted[i] == true[i]:\n",
    "            correctPredictions += 1\n",
    "    return correctPredictions/len(predicted)"
   ]
  },
  {
   "cell_type": "code",
   "execution_count": 153,
   "metadata": {},
   "outputs": [],
   "source": [
    "def oneClassPrecision(predicted, true, cat):\n",
    "    truePositives = 0\n",
    "    falsePositives = 0\n",
    "    for i in range(len(predicted)):\n",
    "        if predicted[i] == cat:\n",
    "            if true[i] == cat:\n",
    "                truePositives += 1\n",
    "            else:\n",
    "                falsePositives += 1\n",
    "    return truePositives / (truePositives + falsePositives)"
   ]
  },
  {
   "cell_type": "code",
   "execution_count": 154,
   "metadata": {},
   "outputs": [],
   "source": [
    "def precision(predicted, true):\n",
    "    classPrecisions = []\n",
    "    for i in range(0, 10):\n",
    "        classPrecisions.append(oneClassPrecision(predicted, true, i))\n",
    "    return np.mean(classPrecisions)"
   ]
  },
  {
   "cell_type": "code",
   "execution_count": 156,
   "metadata": {},
   "outputs": [],
   "source": [
    "def oneClassRecall(predicted, true, cat):\n",
    "    truePositives = 0\n",
    "    falseNegatives = 0\n",
    "    for i in range(len(predicted)):\n",
    "        if true[i] == cat:\n",
    "            if predicted[i] == cat:\n",
    "                truePositives += 1\n",
    "            else:\n",
    "                falseNegatives += 1\n",
    "    return truePositives / (truePositives + falseNegatives)"
   ]
  },
  {
   "cell_type": "code",
   "execution_count": 157,
   "metadata": {},
   "outputs": [],
   "source": [
    "def recall(predicted, true):\n",
    "    classRecalls = []\n",
    "    for i in range(0, 10):\n",
    "        classRecalls.append(oneClassRecall(predicted, true, i))\n",
    "    return np.mean(classRecalls)"
   ]
  },
  {
   "cell_type": "code",
   "execution_count": 160,
   "metadata": {},
   "outputs": [
    {
     "name": "stdout",
     "output_type": "stream",
     "text": [
      "*****SMALL DATA*****\n",
      "Accuracy: 0.9781\n",
      "Precision: 0.9781591806664869\n",
      "Recall: 0.9777091434215033\n",
      "\n",
      "*****LARGE DATA*****\n",
      "Accuracy: 0.9851\n",
      "Precision: 0.9850155815409145\n",
      "Recall: 0.9849699536460574\n"
     ]
    }
   ],
   "source": [
    "print('*****SMALL DATA*****')\n",
    "print(f'Accuracy: {accuracy(smallPredictions, test_y)}')\n",
    "print(f'Precision: {precision(smallPredictions, test_y)}')\n",
    "print(f'Recall: {recall(smallPredictions, test_y)}')\n",
    "print()\n",
    "print('*****LARGE DATA*****')\n",
    "print(f'Accuracy: {accuracy(largePredictions, test_y)}')\n",
    "print(f'Precision: {precision(largePredictions, test_y)}')\n",
    "print(f'Recall: {recall(largePredictions, test_y)}')\n"
   ]
  }
 ],
 "metadata": {
  "kernelspec": {
   "display_name": "Python 3",
   "language": "python",
   "name": "python3"
  },
  "language_info": {
   "codemirror_mode": {
    "name": "ipython",
    "version": 3
   },
   "file_extension": ".py",
   "mimetype": "text/x-python",
   "name": "python",
   "nbconvert_exporter": "python",
   "pygments_lexer": "ipython3",
   "version": "3.9.7"
  }
 },
 "nbformat": 4,
 "nbformat_minor": 2
}
