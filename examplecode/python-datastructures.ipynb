{
  "nbformat": 4,
  "nbformat_minor": 0,
  "metadata": {
    "colab": {
      "provenance": [],
      "include_colab_link": true
    },
    "kernelspec": {
      "name": "python3",
      "display_name": "Python 3"
    },
    "language_info": {
      "name": "python"
    }
  },
  "cells": [
    {
      "cell_type": "markdown",
      "metadata": {
        "id": "view-in-github",
        "colab_type": "text"
      },
      "source": [
        "<a href=\"https://colab.research.google.com/github/kartoone/cosc470s24/blob/main/examplecode/python-datastructures.ipynb\" target=\"_parent\"><img src=\"https://colab.research.google.com/assets/colab-badge.svg\" alt=\"Open In Colab\"/></a>"
      ]
    },
    {
      "cell_type": "code",
      "execution_count": 1,
      "metadata": {
        "id": "CxYh2gy2wTtQ",
        "colab": {
          "base_uri": "https://localhost:8080/"
        },
        "outputId": "07580ac3-c3c5-4b44-eda5-1e8eb55b8e12"
      },
      "outputs": [
        {
          "output_type": "stream",
          "name": "stdout",
          "text": [
            "['apple', 3.0, True, 2]\n",
            "apple\n",
            "apple\n",
            "3.0\n",
            "True\n",
            "2\n",
            "0 - apple\n",
            "1 - 3.0\n",
            "2 - True\n",
            "3 - 2\n"
          ]
        }
      ],
      "source": [
        "myList = [\"apple\",3.0,True,2]\n",
        "print(myList)\n",
        "print(myList[0])\n",
        "for val in myList:\n",
        "  print(val)\n",
        "\n",
        "for i, val in enumerate(myList):\n",
        "  print(f\"{i} - {val}\")"
      ]
    },
    {
      "cell_type": "code",
      "source": [
        "myDictionary = {\n",
        "    \"title\" : \"apple\",\n",
        "    \"price\" : 3.0\n",
        "}\n",
        "\n",
        "print(myDictionary)\n",
        "print(myDictionary[\"title\"])\n",
        "\n",
        "for key, val in myDictionary.items():\n",
        "  print(f\"{key} - {val}\")"
      ],
      "metadata": {
        "colab": {
          "base_uri": "https://localhost:8080/"
        },
        "id": "d9_XCIKH0C_O",
        "outputId": "202b6b41-8204-4a37-c9ff-15504facef79"
      },
      "execution_count": 4,
      "outputs": [
        {
          "output_type": "stream",
          "name": "stdout",
          "text": [
            "{'title': 'apple', 'price': 3.0}\n",
            "apple\n",
            "title - apple\n",
            "price - 3.0\n"
          ]
        }
      ]
    }
  ]
}